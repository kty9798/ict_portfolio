{
 "cells": [
  {
   "cell_type": "markdown",
   "metadata": {},
   "source": [
    "## 이미지 변형 (원근)"
   ]
  },
  {
   "cell_type": "markdown",
   "metadata": {},
   "source": [
    "사다리꼴 이미지 펼침"
   ]
  },
  {
   "cell_type": "code",
   "execution_count": 3,
   "metadata": {},
   "outputs": [],
   "source": [
    "import cv2\n",
    "import numpy as np\n",
    "\n",
    "img = cv2.imread(\"newspaper.jpg\")\n",
    "\n",
    "width , height = 640  , 240\n",
    "\n",
    "src = np.array([[511 , 352] , [1008 , 345] ,  [1122 , 584] , [455 , 594]]  , dtype = np.float32)\n",
    "\n",
    "dst = np.array([[ 0 , 0] , [width , 0] , [width , height] , [0 , height]] , dtype = np.float32)\n",
    "#좌상 우상 우하 좌하 시계방향\n",
    "matrix = cv2.getPerspectiveTransform(src  , dst)\n",
    "result = cv2.warpPerspective(img , matrix , (width , height))\n",
    "\n",
    "\n",
    "cv2.imshow(\"img\" , result)\n",
    "cv2.waitKey(0)\n",
    "cv2.destroyAllWindows()"
   ]
  },
  {
   "cell_type": "code",
   "execution_count": null,
   "metadata": {},
   "outputs": [],
   "source": []
  },
  {
   "cell_type": "markdown",
   "metadata": {},
   "source": [
    "## 미니 프로젝트 반자동 문서 스캐너"
   ]
  },
  {
   "cell_type": "markdown",
   "metadata": {},
   "source": [
    "마우스 이벤트 등록"
   ]
  },
  {
   "cell_type": "code",
   "execution_count": 6,
   "metadata": {
    "scrolled": true
   },
   "outputs": [
    {
     "name": "stdout",
     "output_type": "stream",
     "text": [
      "왼쪽버튼 다운\n",
      "916 218\n",
      "왼쪽버튼 업\n",
      "916 218\n",
      "왼쪽 버튼 더블 클릭\n",
      "왼쪽버튼 업\n",
      "916 218\n",
      "왼쪽버튼 다운\n",
      "916 218\n",
      "왼쪽버튼 업\n",
      "916 218\n",
      "왼쪽버튼 다운\n",
      "894 414\n",
      "왼쪽버튼 업\n",
      "894 414\n",
      "오른쪽 버튼 다운\n",
      "왼쪽버튼 다운\n",
      "1025 345\n",
      "왼쪽버튼 업\n",
      "1025 345\n",
      "왼쪽 버튼 더블 클릭\n",
      "왼쪽버튼 업\n",
      "1025 345\n",
      "왼쪽버튼 다운\n",
      "1025 345\n",
      "왼쪽버튼 업\n",
      "1025 345\n",
      "왼쪽버튼 다운\n",
      "1106 278\n",
      "왼쪽버튼 업\n",
      "1106 279\n",
      "왼쪽 버튼 더블 클릭\n",
      "왼쪽버튼 업\n",
      "1106 279\n",
      "왼쪽버튼 다운\n",
      "896 366\n",
      "왼쪽버튼 업\n",
      "896 366\n",
      "왼쪽버튼 다운\n",
      "896 366\n",
      "왼쪽버튼 업\n",
      "896 366\n"
     ]
    }
   ],
   "source": [
    "import cv2\n",
    "#x , y좌표\n",
    "def mouse_handler(event , x , y, flags , param):\n",
    "    if event == cv2.EVENT_LBUTTONDOWN:\n",
    "        print(\"왼쪽버튼 다운\")\n",
    "        print(x , y)\n",
    "    elif event == cv2.EVENT_LBUTTONUP:\n",
    "         print('왼쪽버튼 업')\n",
    "         print(x ,y)\n",
    "    elif event == cv2.EVENT_LBUTTONDBLCLK:\n",
    "        print(\"왼쪽 버튼 더블 클릭\")\n",
    "    #elif event == cv2.EVENT_MOUSEMOVE:\n",
    "       # print(\"마우스 이동\")\n",
    "    elif event == cv2.EVENT_RBUTTONDOWN:\n",
    "        print(\"오른쪽 버튼 다운\")\n",
    "        \n",
    "\n",
    "img  = cv2.imread(\"poker1.jpg\")\n",
    "\n",
    "cv2.namedWindow('img')#이미지란 윈도우 만들어놈\n",
    "cv2.setMouseCallback('img' , mouse_handler)\n",
    "cv2.imshow('img' , img)\n",
    "cv2.waitKey(0)\n",
    "cv2.destroyAllWindows()"
   ]
  },
  {
   "cell_type": "markdown",
   "metadata": {},
   "source": [
    "## 프로젝트"
   ]
  },
  {
   "cell_type": "code",
   "execution_count": 19,
   "metadata": {},
   "outputs": [],
   "source": [
    "import cv2\n",
    "import numpy as np\n",
    "point_list= []\n",
    "\n",
    "COLOR= (255, 0 , 255)\n",
    "src_img = cv2.imread(\"poker1.jpg\")\n",
    "THICKNESS =3\n",
    "drawing = False #선을 그릴지 여부\n",
    "\n",
    "def mouse_handler(event , x , y, flags , param):\n",
    "    global drawing #전역 변수를 쓴다\n",
    "    dst_img = src_img.copy()\n",
    "    \n",
    "    if event == cv2.EVENT_LBUTTONDOWN:\n",
    "        drawing = True #선을 그리기 시작\n",
    "        point_list.append((x , y))\n",
    "    \n",
    "    if drawing:\n",
    "        prev_point= None\n",
    "        for point in point_list:\n",
    "                cv2.circle(dst_img , point ,15 , COLOR , cv2.FILLED)\n",
    "                if prev_point:\n",
    "                    cv2.line(dst_img , prev_point , point , COLOR , THICKNESS , cv2.LINE_AA)\n",
    "                prev_point = point    \n",
    "        next_point = (x , y)\n",
    "        if len(point_list) ==4:\n",
    "            show_result(point_list) #결과 출력\n",
    "            next_point = point_list[0]\n",
    "        cv2.line(dst_img , prev_point , next_point , COLOR , THICKNESS , cv2.LINE_AA)\n",
    "                \n",
    "    if len(point_list) ==4:\n",
    "        show_result(point_list) #결과 출력\n",
    "    cv2.imshow(\"img\" , dst_img)\n",
    "\n",
    "    \n",
    "def show_result(point_list):  \n",
    "    width , height = 530  , 710\n",
    "\n",
    "    src = np.float32(point_list)\n",
    "\n",
    "    dst = np.array([[ 0 , 0] , [width , 0] , [width , height] , [0 , height]] , dtype = np.float32)\n",
    "    #좌상 우상 우하 좌하 시계방향\n",
    "    matrix = cv2.getPerspectiveTransform(src  , dst)\n",
    "    result = cv2.warpPerspective(src_img , matrix , (width , height))\n",
    "    cv2.imshow(\"result\" , result)\n",
    "cv2.namedWindow('img')#이미지란 윈도우 만들어놈\n",
    "cv2.setMouseCallback('img' , mouse_handler)\n",
    "cv2.imshow('img' , src_img)\n",
    "cv2.waitKey(0)\n",
    "cv2.destroyAllWindows()"
   ]
  }
 ],
 "metadata": {
  "kernelspec": {
   "display_name": "Python 3",
   "language": "python",
   "name": "python3"
  },
  "language_info": {
   "codemirror_mode": {
    "name": "ipython",
    "version": 3
   },
   "file_extension": ".py",
   "mimetype": "text/x-python",
   "name": "python",
   "nbconvert_exporter": "python",
   "pygments_lexer": "ipython3",
   "version": "3.8.3"
  }
 },
 "nbformat": 4,
 "nbformat_minor": 4
}
