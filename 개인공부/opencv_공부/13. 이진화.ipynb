{
 "cells": [
  {
   "cell_type": "code",
   "execution_count": 5,
   "metadata": {},
   "outputs": [],
   "source": [
    "import cv2\n",
    "\n",
    "img = cv2.imread(\"book.jpg\" , cv2.IMREAD_GRAYSCALE)\n",
    "\n",
    "                                    #기준\n",
    "ret , binary = cv2.threshold(img , 127 , 255 , cv2.THRESH_BINARY)\n",
    "\n",
    "cv2.imshow(\"img\" , img)\n",
    "cv2.imshow(\"binary\" , binary)\n",
    "cv2.waitKey(0)\n",
    "cv2.destroyAllWindows()\n",
    "\n"
   ]
  },
  {
   "cell_type": "markdown",
   "metadata": {},
   "source": [
    "## 13 . 이진화"
   ]
  },
  {
   "cell_type": "markdown",
   "metadata": {},
   "source": [
    "## 임계값 (threshold)\n",
    "\n",
    "- TRACKBAR(값 변화에 따른 변형 확인)"
   ]
  },
  {
   "cell_type": "code",
   "execution_count": 1,
   "metadata": {
    "collapsed": true
   },
   "outputs": [
    {
     "name": "stdout",
     "output_type": "stream",
     "text": [
      "127\n",
      "130\n",
      "134\n",
      "135\n",
      "137\n",
      "139\n",
      "141\n",
      "144\n",
      "146\n",
      "147\n",
      "149\n",
      "151\n",
      "153\n",
      "154\n",
      "156\n",
      "160\n",
      "161\n",
      "165\n",
      "167\n",
      "168\n",
      "170\n",
      "172\n",
      "175\n",
      "177\n",
      "179\n",
      "180\n",
      "184\n",
      "189\n",
      "193\n",
      "194\n",
      "196\n",
      "199\n",
      "203\n",
      "205\n",
      "206\n",
      "208\n",
      "212\n",
      "215\n",
      "220\n",
      "222\n",
      "224\n",
      "227\n",
      "231\n",
      "234\n",
      "238\n",
      "243\n",
      "246\n",
      "250\n",
      "252\n",
      "253\n",
      "255\n",
      "252\n",
      "248\n",
      "243\n",
      "238\n",
      "232\n",
      "229\n",
      "226\n",
      "224\n",
      "219\n",
      "212\n",
      "208\n",
      "205\n",
      "201\n",
      "199\n",
      "198\n",
      "196\n",
      "194\n",
      "191\n",
      "184\n",
      "180\n",
      "177\n",
      "170\n",
      "163\n",
      "161\n",
      "158\n",
      "154\n",
      "147\n",
      "144\n",
      "139\n",
      "135\n",
      "132\n",
      "127\n",
      "123\n",
      "113\n",
      "109\n",
      "108\n",
      "101\n",
      "95\n",
      "94\n",
      "87\n",
      "83\n",
      "82\n",
      "76\n",
      "73\n",
      "68\n",
      "64\n",
      "59\n",
      "54\n",
      "52\n",
      "49\n",
      "47\n",
      "43\n",
      "42\n",
      "38\n",
      "36\n",
      "33\n",
      "29\n",
      "24\n",
      "19\n",
      "16\n",
      "10\n",
      "7\n",
      "2\n",
      "0\n"
     ]
    }
   ],
   "source": [
    "import cv2\n",
    "\n",
    "\n",
    "def empty(pos):\n",
    "    #print(pos)\n",
    "    pass\n",
    "\n",
    "img = cv2.imread('book.jpg' , cv2.IMREAD_GRAYSCALE)\n",
    "\n",
    "name = 'trackbar'\n",
    "\n",
    "cv2.namedWindow(name)\n",
    "\n",
    "cv2.createTrackbar('threshold' , name , 127 , 255 , empty)#bar 이름 창의 이름  , 초기값  , 최대값 , 이벤트 처리\n",
    "\n",
    "while True:\n",
    "    thresh = cv2.getTrackbarPos('threshold' , name) #바 이름\n",
    "    ret , binary = cv2.threshold(img , thresh , 255 , cv2.THRESH_BINARY)\n",
    "    \n",
    "    \n",
    "    if not ret:\n",
    "        break\n",
    "        \n",
    "    cv2.imshow(name , binary)\n",
    "    \n",
    "    if cv2.waitKey(1) == ord('q'):\n",
    "        break\n",
    "\n",
    "cv2.destroyAllWindows()       \n",
    "        "
   ]
  },
  {
   "cell_type": "markdown",
   "metadata": {},
   "source": [
    "## 임계값보다 작으면 검은색 크면 흰색"
   ]
  },
  {
   "cell_type": "code",
   "execution_count": 2,
   "metadata": {},
   "outputs": [],
   "source": [
    "import cv2\n",
    "\n",
    "img = cv2.imread(\"threshold.png\" , cv2.IMREAD_GRAYSCALE)\n",
    "\n",
    "                                    #기준\n",
    "ret , binary1 = cv2.threshold(img , 0 , 255 , cv2.THRESH_BINARY)\n",
    "ret , binary2= cv2.threshold(img , 127 , 255 , cv2.THRESH_BINARY)\n",
    "ret , binary3 = cv2.threshold(img , 195 , 255 , cv2.THRESH_BINARY)\n",
    "\n",
    "cv2.imshow(\"img\" , img)\n",
    "cv2.imshow(\"binary\" , binary1)\n",
    "cv2.imshow(\"binary\" , binary2)\n",
    "cv2.imshow(\"binary\" , binary3)\n",
    "cv2.waitKey(0)\n",
    "cv2.destroyAllWindows()\n",
    "\n"
   ]
  },
  {
   "cell_type": "markdown",
   "metadata": {},
   "source": [
    "## adaptive threshold\n",
    "\n",
    "이미지를 작은 영역으로 나누어서 임계치 적용"
   ]
  },
  {
   "cell_type": "code",
   "execution_count": 1,
   "metadata": {
    "scrolled": true
   },
   "outputs": [
    {
     "ename": "error",
     "evalue": "OpenCV(4.5.5) D:\\a\\opencv-python\\opencv-python\\opencv\\modules\\highgui\\src\\window_w32.cpp:2581: error: (-27:Null pointer) NULL window: 'trackbar' in function 'cvGetTrackbarPos'\n",
     "output_type": "error",
     "traceback": [
      "\u001b[1;31m---------------------------------------------------------------------------\u001b[0m",
      "\u001b[1;31merror\u001b[0m                                     Traceback (most recent call last)",
      "\u001b[1;32m<ipython-input-1-15219c08f651>\u001b[0m in \u001b[0;36m<module>\u001b[1;34m\u001b[0m\n\u001b[0;32m     16\u001b[0m \u001b[0mcv2\u001b[0m\u001b[1;33m.\u001b[0m\u001b[0mcreateTrackbar\u001b[0m\u001b[1;33m(\u001b[0m\u001b[1;34m'c'\u001b[0m \u001b[1;33m,\u001b[0m \u001b[0mname\u001b[0m \u001b[1;33m,\u001b[0m \u001b[1;36m3\u001b[0m \u001b[1;33m,\u001b[0m \u001b[1;36m10\u001b[0m \u001b[1;33m,\u001b[0m \u001b[0mempty\u001b[0m\u001b[1;33m)\u001b[0m \u001b[1;31m#c는 일반적으로 양수만\u001b[0m\u001b[1;33m\u001b[0m\u001b[1;33m\u001b[0m\u001b[0m\n\u001b[0;32m     17\u001b[0m \u001b[1;32mwhile\u001b[0m \u001b[1;32mTrue\u001b[0m\u001b[1;33m:\u001b[0m\u001b[1;33m\u001b[0m\u001b[1;33m\u001b[0m\u001b[0m\n\u001b[1;32m---> 18\u001b[1;33m     \u001b[0mblock_size\u001b[0m \u001b[1;33m=\u001b[0m \u001b[0mcv2\u001b[0m\u001b[1;33m.\u001b[0m\u001b[0mgetTrackbarPos\u001b[0m\u001b[1;33m(\u001b[0m\u001b[1;34m'block_size'\u001b[0m \u001b[1;33m,\u001b[0m \u001b[0mname\u001b[0m\u001b[1;33m)\u001b[0m \u001b[1;31m#바 이름\u001b[0m\u001b[1;33m\u001b[0m\u001b[1;33m\u001b[0m\u001b[0m\n\u001b[0m\u001b[0;32m     19\u001b[0m     \u001b[0mc\u001b[0m \u001b[1;33m=\u001b[0m \u001b[0mcv2\u001b[0m\u001b[1;33m.\u001b[0m\u001b[0mgetTrackbarPos\u001b[0m\u001b[1;33m(\u001b[0m\u001b[1;34m'c'\u001b[0m \u001b[1;33m,\u001b[0m \u001b[0mname\u001b[0m\u001b[1;33m)\u001b[0m\u001b[1;33m\u001b[0m\u001b[1;33m\u001b[0m\u001b[0m\n\u001b[0;32m     20\u001b[0m \u001b[1;33m\u001b[0m\u001b[0m\n",
      "\u001b[1;31merror\u001b[0m: OpenCV(4.5.5) D:\\a\\opencv-python\\opencv-python\\opencv\\modules\\highgui\\src\\window_w32.cpp:2581: error: (-27:Null pointer) NULL window: 'trackbar' in function 'cvGetTrackbarPos'\n"
     ]
    }
   ],
   "source": [
    "import cv2\n",
    "\n",
    "\n",
    "def empty(pos):\n",
    "    #print(pos)\n",
    "    pass\n",
    "\n",
    "img = cv2.imread('book.jpg' , cv2.IMREAD_GRAYSCALE)\n",
    "\n",
    "name = 'trackbar'\n",
    "\n",
    "cv2.namedWindow(name)\n",
    "\n",
    "#블록 사이즈는홀수만 가능\n",
    "cv2.createTrackbar('block_size' , name , 25  , 100 , empty)#bar 이름 창의 이름  , 초기값  , 최대값 , 이벤트 처리\n",
    "cv2.createTrackbar('c' , name , 3 , 10 , empty) #c는 일반적으로 양수만 \n",
    "while True:\n",
    "    block_size = cv2.getTrackbarPos('block_size' , name) #바 이름\n",
    "    c = cv2.getTrackbarPos('c' , name)\n",
    "    \n",
    "    if block_size <= 1:\n",
    "        block_size= 3\n",
    "    if block_size %2 ==0:\n",
    "        block_size +=1\n",
    "        \n",
    "    #어뎁티브는 하나 \n",
    "    binary  = cv2.adaptiveThreshold(img , 255 ,cv2.ADAPTIVE_THRESH_MEAN_C , cv2.THRESH_BINARY , block_size , c)\n",
    "    \n",
    "    \n",
    "        \n",
    "    cv2.imshow(name , binary)\n",
    "    \n",
    "    if cv2.waitKey(1) == ord('q'):\n",
    "        break\n",
    "\n",
    "cv2.destroyAllWindows()       \n",
    "        "
   ]
  },
  {
   "cell_type": "markdown",
   "metadata": {},
   "source": [
    "## 오츠 알고리즘! (최적의 이미지...?)"
   ]
  },
  {
   "cell_type": "markdown",
   "metadata": {},
   "source": [
    "### bimodal image에서 최적의 임계치를 찾을 수 있음"
   ]
  },
  {
   "cell_type": "code",
   "execution_count": 3,
   "metadata": {},
   "outputs": [
    {
     "name": "stdout",
     "output_type": "stream",
     "text": [
      "otsu 100.0\n"
     ]
    }
   ],
   "source": [
    "# 최적의 값을 찾을 수 있음\n",
    "\n",
    "import cv2\n",
    "\n",
    "img = cv2.imread(\"book.jpg\" , cv2.IMREAD_GRAYSCALE)\n",
    "\n",
    "                                    #기준\n",
    "ret , binary = cv2.threshold(img , 127 , 255 , cv2.THRESH_BINARY)\n",
    "ret , otsu = cv2.threshold(img , -1 , 255 , cv2.THRESH_BINARY | cv2.THRESH_OTSU)\n",
    "\n",
    "print(\"otsu\" , ret)\n",
    "\n",
    "cv2.imshow(\"img\" , img)\n",
    "cv2.imshow(\"binary\" , binary)\n",
    "cv2.imshow(\"otsu\" , otsu)\n",
    "cv2.waitKey(0)\n",
    "cv2.destroyAllWindows()\n",
    "\n",
    "\n"
   ]
  },
  {
   "cell_type": "code",
   "execution_count": null,
   "metadata": {},
   "outputs": [],
   "source": []
  },
  {
   "cell_type": "code",
   "execution_count": null,
   "metadata": {},
   "outputs": [],
   "source": []
  },
  {
   "cell_type": "code",
   "execution_count": null,
   "metadata": {},
   "outputs": [],
   "source": []
  },
  {
   "cell_type": "code",
   "execution_count": null,
   "metadata": {},
   "outputs": [],
   "source": []
  },
  {
   "cell_type": "code",
   "execution_count": null,
   "metadata": {},
   "outputs": [],
   "source": []
  },
  {
   "cell_type": "code",
   "execution_count": null,
   "metadata": {},
   "outputs": [],
   "source": []
  }
 ],
 "metadata": {
  "kernelspec": {
   "display_name": "Python 3",
   "language": "python",
   "name": "python3"
  },
  "language_info": {
   "codemirror_mode": {
    "name": "ipython",
    "version": 3
   },
   "file_extension": ".py",
   "mimetype": "text/x-python",
   "name": "python",
   "nbconvert_exporter": "python",
   "pygments_lexer": "ipython3",
   "version": "3.8.3"
  }
 },
 "nbformat": 4,
 "nbformat_minor": 4
}
