{
 "cells": [
  {
   "cell_type": "markdown",
   "metadata": {},
   "source": [
    "## 15. 이미지변환(침식)"
   ]
  },
  {
   "cell_type": "markdown",
   "metadata": {},
   "source": [
    "### 침식(erosion) 이미지를 깎아서 노이즈 제거\n",
    "\n",
    "- 외곽을 깎아나간다"
   ]
  },
  {
   "cell_type": "code",
   "execution_count": 1,
   "metadata": {},
   "outputs": [],
   "source": [
    "import cv2\n",
    "import numpy as np\n",
    "\n",
    "kernel = np.ones((3,3))\n",
    "\n",
    "img = cv2.imread(\"erode.png\"  ,cv2.IMREAD_GRAYSCALE)\n",
    "\n",
    "erode1 = cv2.erode(img , kernel , iterations = 1)\n",
    "erode2 = cv2.erode(img , kernel , iterations = 2)\n",
    "erode3 = cv2.erode(img , kernel , iterations = 3)\n",
    "cv2.imshow(\"img\" , img)\n",
    "cv2.imshow(\"erode1\" , erode1)\n",
    "\n",
    "cv2.imshow(\"erode2\" , erode2)\n",
    "\n",
    "cv2.imshow(\"erode3\" , erode3)\n",
    "\n",
    "\n",
    "cv2.waitKey(0)\n",
    "cv2.destroyAllWindows()"
   ]
  }
 ],
 "metadata": {
  "kernelspec": {
   "display_name": "Python 3",
   "language": "python",
   "name": "python3"
  },
  "language_info": {
   "codemirror_mode": {
    "name": "ipython",
    "version": 3
   },
   "file_extension": ".py",
   "mimetype": "text/x-python",
   "name": "python",
   "nbconvert_exporter": "python",
   "pygments_lexer": "ipython3",
   "version": "3.8.3"
  }
 },
 "nbformat": 4,
 "nbformat_minor": 4
}
