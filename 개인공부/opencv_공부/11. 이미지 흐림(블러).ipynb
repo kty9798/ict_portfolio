{
 "cells": [
  {
   "cell_type": "markdown",
   "metadata": {},
   "source": [
    "## 가우시안 블러"
   ]
  },
  {
   "cell_type": "markdown",
   "metadata": {},
   "source": [
    "## 커널 사이즈 변화에 따른 흐림"
   ]
  },
  {
   "cell_type": "code",
   "execution_count": 2,
   "metadata": {},
   "outputs": [],
   "source": [
    "import cv2\n",
    "\n",
    "img = cv2.imread('img.jpg')\n",
    "\n",
    "kernel_3 =cv2.GaussianBlur(img , (3,3) , 0) #\n",
    "kernel_5 =cv2.GaussianBlur(img , (5,5) , 0) \n",
    "kernel_7 =cv2.GaussianBlur(img , (7,7) , 0) \n",
    "#(3,3) (5,5) (7,7) #흐림 효과 차이\n",
    "\n",
    "cv2.imshow('img' , img)\n",
    "cv2.imshow('kernel_3' , kernel_3)\n",
    "cv2.imshow('kernel_5' , kernel_5)\n",
    "cv2.imshow('kernel_7' , kernel_7)\n",
    "cv2.waitKey(0)\n",
    "cv2.destroyAllWindows()"
   ]
  },
  {
   "cell_type": "markdown",
   "metadata": {},
   "source": [
    "표준편차 변화에 따른 흐림"
   ]
  },
  {
   "cell_type": "code",
   "execution_count": 5,
   "metadata": {},
   "outputs": [],
   "source": [
    "import cv2\n",
    "\n",
    "img = cv2.imread('img.jpg')\n",
    "\n",
    "sigma_3 =cv2.GaussianBlur(img , (0,0) , 1) #\n",
    "sigma_5 =cv2.GaussianBlur(img , (0,0) , 2) \n",
    "sigma_7 =cv2.GaussianBlur(img , (0,0) , 3) \n",
    "#(3,3) (5,5) (7,7) #흐림 효과 차이\n",
    "\n",
    "cv2.imshow('img' , img)\n",
    "cv2.imshow('kernel_1' , sigma_3)\n",
    "cv2.imshow('kernel_2' , sigma_5)\n",
    "cv2.imshow('kernel_3' , sigma_7)\n",
    "cv2.waitKey(0)\n",
    "cv2.destroyAllWindows()"
   ]
  }
 ],
 "metadata": {
  "kernelspec": {
   "display_name": "Python 3",
   "language": "python",
   "name": "python3"
  },
  "language_info": {
   "codemirror_mode": {
    "name": "ipython",
    "version": 3
   },
   "file_extension": ".py",
   "mimetype": "text/x-python",
   "name": "python",
   "nbconvert_exporter": "python",
   "pygments_lexer": "ipython3",
   "version": "3.8.3"
  }
 },
 "nbformat": 4,
 "nbformat_minor": 4
}
