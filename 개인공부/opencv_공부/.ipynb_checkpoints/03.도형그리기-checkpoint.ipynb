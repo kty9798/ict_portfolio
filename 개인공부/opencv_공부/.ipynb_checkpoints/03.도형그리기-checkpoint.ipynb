{
 "cells": [
  {
   "cell_type": "markdown",
   "metadata": {},
   "source": [
    "## 도형 그리기"
   ]
  },
  {
   "cell_type": "code",
   "execution_count": null,
   "metadata": {},
   "outputs": [],
   "source": [
    "# 빈 스케치북 만들기"
   ]
  },
  {
   "cell_type": "code",
   "execution_count": 17,
   "metadata": {},
   "outputs": [
    {
     "data": {
      "text/plain": [
       "(480, 640, 3)"
      ]
     },
     "execution_count": 17,
     "metadata": {},
     "output_type": "execute_result"
    }
   ],
   "source": [
    "import cv2\n",
    "import numpy as np\n",
    "\n",
    "#세로 480 가로 640 channel rgb 빛의 삼원색\n",
    "\n",
    "img = np.zeros((480 , 640 , 3) , dtype = np.uint8)\n",
    "#img[:] = (255, 5 ,3) #전체 #blue green red 순서대로\n",
    "img.shape\n",
    "\n"
   ]
  },
  {
   "cell_type": "code",
   "execution_count": 8,
   "metadata": {
    "collapsed": true
   },
   "outputs": [
    {
     "name": "stdout",
     "output_type": "stream",
     "text": [
      "[[[0 0 0]\n",
      "  [0 0 0]\n",
      "  [0 0 0]\n",
      "  ...\n",
      "  [0 0 0]\n",
      "  [0 0 0]\n",
      "  [0 0 0]]\n",
      "\n",
      " [[0 0 0]\n",
      "  [0 0 0]\n",
      "  [0 0 0]\n",
      "  ...\n",
      "  [0 0 0]\n",
      "  [0 0 0]\n",
      "  [0 0 0]]\n",
      "\n",
      " [[0 0 0]\n",
      "  [0 0 0]\n",
      "  [0 0 0]\n",
      "  ...\n",
      "  [0 0 0]\n",
      "  [0 0 0]\n",
      "  [0 0 0]]\n",
      "\n",
      " ...\n",
      "\n",
      " [[0 0 0]\n",
      "  [0 0 0]\n",
      "  [0 0 0]\n",
      "  ...\n",
      "  [0 0 0]\n",
      "  [0 0 0]\n",
      "  [0 0 0]]\n",
      "\n",
      " [[0 0 0]\n",
      "  [0 0 0]\n",
      "  [0 0 0]\n",
      "  ...\n",
      "  [0 0 0]\n",
      "  [0 0 0]\n",
      "  [0 0 0]]\n",
      "\n",
      " [[0 0 0]\n",
      "  [0 0 0]\n",
      "  [0 0 0]\n",
      "  ...\n",
      "  [0 0 0]\n",
      "  [0 0 0]\n",
      "  [0 0 0]]]\n"
     ]
    }
   ],
   "source": [
    "print(img)"
   ]
  },
  {
   "cell_type": "code",
   "execution_count": 16,
   "metadata": {},
   "outputs": [],
   "source": [
    "cv2.imshow('img' , img)\n",
    "cv2.waitKey(0)\n",
    "cv2.destroyAllWindows()"
   ]
  },
  {
   "cell_type": "code",
   "execution_count": null,
   "metadata": {},
   "outputs": [],
   "source": [
    "img"
   ]
  },
  {
   "cell_type": "markdown",
   "metadata": {},
   "source": [
    "## 일부 영역 색칠"
   ]
  },
  {
   "cell_type": "code",
   "execution_count": 18,
   "metadata": {},
   "outputs": [],
   "source": [
    "img = np.zeros((480 , 640 , 3))\n",
    "\n",
    "img[100:200 , 200: 300] = (255, 255, 255) #slicing 을 이용해서\n",
    "cv2.imshow('img' , img)\n",
    "cv2.waitKey(0)\n",
    "cv2.destroyAllWindows()"
   ]
  },
  {
   "cell_type": "markdown",
   "metadata": {},
   "source": [
    "## 직선 그리기\n",
    "직선의 종류 (line type)\n",
    "\n",
    "1. cv2.LINE_4 : 4픽셀로\n",
    "2. cv2.LINE_8 :조금더 부드러운\n",
    "3. cv2.LINE_AA\n"
   ]
  },
  {
   "cell_type": "code",
   "execution_count": 21,
   "metadata": {},
   "outputs": [],
   "source": [
    "img = np.zeros((480 , 640 , 3) , dtype  = np.uint8)\n",
    "\n",
    "COLOR = (0 , 255 , 255)# 노란색\n",
    "THICHNESS = 3 #두께\n",
    "\n",
    "cv2.line(img , (50 , 100)  , (400 , 50) , COLOR , THICHNESS , cv2.LINE_8) #x , y좌표를 나타내는\n",
    "cv2.imshow('img' , img)\n",
    "cv2.waitKey(3000)\n",
    "cv2.destroyAllWindows()"
   ]
  },
  {
   "cell_type": "markdown",
   "metadata": {},
   "source": [
    "## 원"
   ]
  },
  {
   "cell_type": "code",
   "execution_count": 25,
   "metadata": {},
   "outputs": [],
   "source": [
    "img = np.zeros((480 , 640 , 3) , dtype  = np.uint8)\n",
    "\n",
    "COLOR = (255 , 255 , 0)# 노란색\n",
    "THICHNESS = 3 #두께\n",
    "RADIUS = 50\n",
    "cv2.circle(img , (200 , 100) , RADIUS , COLOR , THICHNESS , cv2.LINE_AA)\n",
    "cv2.circle(img , (200 , 200) , RADIUS , COLOR , cv2.FILLED , cv2.LINE_AA)\n",
    "cv2.imshow('img' , img)\n",
    "cv2.waitKey(3000)\n",
    "cv2.destroyAllWindows()"
   ]
  },
  {
   "cell_type": "markdown",
   "metadata": {},
   "source": [
    "## 사각형"
   ]
  },
  {
   "cell_type": "code",
   "execution_count": 27,
   "metadata": {},
   "outputs": [],
   "source": [
    "img = np.zeros((480 , 640 , 3) , dtype  = np.uint8)\n",
    "\n",
    "COLOR = (255 , 255 , 0)# 노란색\n",
    "THICHNESS = 3 #두께\n",
    "\n",
    "cv2.rectangle(img , (100 , 100) , (200 , 200) , COLOR , THICHNESS)\n",
    "#그릴 위치 왼쪽 위 좌표 , 오른쪽 아래 좌표 , 색깔 , 두꼐 \n",
    "cv2.imshow('img' , img)\n",
    "cv2.waitKey(3000)\n",
    "cv2.destroyAllWindows()"
   ]
  },
  {
   "cell_type": "markdown",
   "metadata": {},
   "source": [
    "## 다각형"
   ]
  },
  {
   "cell_type": "code",
   "execution_count": 29,
   "metadata": {},
   "outputs": [],
   "source": [
    "img = np.zeros((480 , 640 , 3) , dtype  = np.uint8)\n",
    "\n",
    "COLOR = (0 , 255 , 0)# 노란색\n",
    "THICHNESS = 3 #두께\n",
    "\n",
    "pts1 = np.array([[100 , 100] , [200 , 100] , [100 , 200]])\n",
    "                                #닫힌 여부 True , False\n",
    "#polylines를 이용하면 다각형\n",
    "#[리스트 안에 넣어서 점을]\n",
    "cv2.polylines(img ,  [pts1] , False , COLOR , THICHNESS)\n",
    "cv2.imshow('img' , img)\n",
    "cv2.waitKey(3000)\n",
    "cv2.destroyAllWindows()"
   ]
  }
 ],
 "metadata": {
  "kernelspec": {
   "display_name": "Python 3",
   "language": "python",
   "name": "python3"
  },
  "language_info": {
   "codemirror_mode": {
    "name": "ipython",
    "version": 3
   },
   "file_extension": ".py",
   "mimetype": "text/x-python",
   "name": "python",
   "nbconvert_exporter": "python",
   "pygments_lexer": "ipython3",
   "version": "3.8.3"
  }
 },
 "nbformat": 4,
 "nbformat_minor": 4
}
