{
 "cells": [
  {
   "cell_type": "markdown",
   "metadata": {},
   "source": [
    "## OpenCV 에서 사용하는 글꼴 종류\n",
    "> cv2.FONT_HERSHEY_SIMPLEX : 보통 크기의 산 세리프\n",
    "> cv2.FONT_HERSHEY_PLAIN : 작은 크기의 산 세리프\n",
    "> cv2.FONT_HERSHEY_SCRIPT_SIMPLEX : 필기체 스타일\n"
   ]
  },
  {
   "cell_type": "code",
   "execution_count": 3,
   "metadata": {},
   "outputs": [],
   "source": [
    "import numpy as np\n",
    "import cv2\n",
    "\n",
    "img = np.zeros((480 , 640 , 3) , dtype = np.uint8)\n",
    "\n",
    "SCALE = 1 #글자 크기\n",
    "COLOR = (255 ,255 , 255) #색깔\n",
    "THICHNESS =1 \n",
    "cv2.putText(img , \"Nado Simplex\" , (20 , 50) , cv2.FONT_HERSHEY_SIMPLEX , SCALE , COLOR , THICHNESS)\n",
    "cv2.imshow(\"img\" , img)\n",
    "cv2.waitKey(0)\n",
    "cv2.destroyAllWindows()"
   ]
  },
  {
   "cell_type": "markdown",
   "metadata": {},
   "source": [
    "## 한글\n",
    "\n",
    "- 한글은 원래 지원 안함"
   ]
  },
  {
   "cell_type": "markdown",
   "metadata": {},
   "source": [
    "### 한글 우회 방법"
   ]
  },
  {
   "cell_type": "code",
   "execution_count": 11,
   "metadata": {},
   "outputs": [],
   "source": [
    "#python image library\n",
    "from PIL import ImageFont , ImageDraw , Image"
   ]
  },
  {
   "cell_type": "code",
   "execution_count": 20,
   "metadata": {},
   "outputs": [],
   "source": [
    "def myPutText(src , text , pos ,font_size , font_color):\n",
    "    img_pil = Image.fromarray(src)\n",
    "    draw = ImageDraw.Draw(img_pil)\n",
    "    font = ImageFont.truetype('fonts/gulim.ttc' , font_size)\n",
    "    draw.text(pos , text , font=  font , fill = font_color)\n",
    "    return np.array(img_pil)"
   ]
  },
  {
   "cell_type": "code",
   "execution_count": 21,
   "metadata": {},
   "outputs": [],
   "source": [
    "import numpy as np\n",
    "import cv2\n",
    "\n",
    "img = np.zeros((480 , 640 , 3) , dtype = np.uint8)\n",
    "FONT_SIZE =30\n",
    "COCLOR = (255, 255, 255)\n",
    "THICHNESS =1 \n",
    "img = myPutText(img , \"나도 코딩\" , (20 ,50) ,FONT_SIZE , font_color = COLOR)\n",
    "\n",
    "cv2.imshow(\"img\" , img)\n",
    "cv2.waitKey(0)\n",
    "cv2.destroyAllWindows()"
   ]
  }
 ],
 "metadata": {
  "kernelspec": {
   "display_name": "Python 3",
   "language": "python",
   "name": "python3"
  },
  "language_info": {
   "codemirror_mode": {
    "name": "ipython",
    "version": 3
   },
   "file_extension": ".py",
   "mimetype": "text/x-python",
   "name": "python",
   "nbconvert_exporter": "python",
   "pygments_lexer": "ipython3",
   "version": "3.8.3"
  }
 },
 "nbformat": 4,
 "nbformat_minor": 4
}
