{
 "cells": [
  {
   "cell_type": "markdown",
   "metadata": {},
   "source": [
    "## 17. 이미지 검출(경계선)"
   ]
  },
  {
   "cell_type": "markdown",
   "metadata": {},
   "source": [
    "### 경계선이란 색깔이 확 바뀌는\n",
    "\n",
    "## canny Edge Detection"
   ]
  },
  {
   "cell_type": "code",
   "execution_count": 1,
   "metadata": {},
   "outputs": [],
   "source": [
    "import cv2\n",
    "\n",
    "\n",
    "def empty(pos):\n",
    "    pass\n",
    "\n",
    "img = cv2.imread(\"snow.png\")\n",
    "\n",
    "\n",
    "\n",
    "name = \"Trackbar\"\n",
    "\n",
    "cv2.namedWindow(name)\n",
    "cv2.createTrackbar(\"threshold1\" , name , 0 , 255 , empty)\n",
    "cv2.createTrackbar(\"threshold2\" , name , 0 , 255 , empty)\n",
    "\n",
    "while True:\n",
    "    threshold1 = cv2.getTrackbarPos('threshold1' , name)\n",
    "    threshold2 = cv2.getTrackbarPos('threshold2' , name)\n",
    "    \n",
    "    canny = cv2.Canny(img , threshold1 , threshold2)\n",
    "\n",
    "    cv2.imshow('img'  , img)\n",
    "    cv2.imshow(name , canny)\n",
    "    \n",
    "    if cv2.waitKey(1) == ord(\"q\"):\n",
    "        break\n",
    "        \n",
    "cv2.waitKey(0)\n",
    "cv2.destroyAllWindows()\n",
    "                    #threshold 1 , 2\n",
    "\n",
    "                #대상이미지  하위임계값 , 상위임계값\n",
    "    \n",
    "\n"
   ]
  }
 ],
 "metadata": {
  "kernelspec": {
   "display_name": "Python 3",
   "language": "python",
   "name": "python3"
  },
  "language_info": {
   "codemirror_mode": {
    "name": "ipython",
    "version": 3
   },
   "file_extension": ".py",
   "mimetype": "text/x-python",
   "name": "python",
   "nbconvert_exporter": "python",
   "pygments_lexer": "ipython3",
   "version": "3.8.3"
  }
 },
 "nbformat": 4,
 "nbformat_minor": 4
}
