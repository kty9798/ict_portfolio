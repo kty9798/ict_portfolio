{
 "cells": [
  {
   "cell_type": "markdown",
   "metadata": {},
   "source": [
    "## 14. 이미지 변환(팽창)\n",
    "\n",
    "## 이미지를 확장하여 작은 구멍 채우기\n",
    "흰색 영역의 외과 픽샐 주변에 흰색을 추가"
   ]
  },
  {
   "cell_type": "code",
   "execution_count": 3,
   "metadata": {},
   "outputs": [],
   "source": [
    "import cv2\n",
    "\n",
    "import numpy as np\n",
    "\n",
    "kernel = np.ones((3,3) , dtype = np.uint8)\n",
    "kernel\n",
    "img = cv2.imread(\"dilate.png\" , cv2.IMREAD_GRAYSCALE)\n",
    "dilate1 = cv2.dilate(img ,kernel , iterations = 1)\n",
    "dilate2 = cv2.dilate(img ,kernel , iterations = 2)\n",
    "dilate3 = cv2.dilate(img ,kernel , iterations = 3)\n",
    "\n",
    "cv2.imshow(\"img\" , img)\n",
    "cv2.imshow(\"dilate1\" , dilate1)\n",
    "cv2.imshow(\"dilate2\" , dilate2)\n",
    "\n",
    "cv2.imshow(\"dilate3\" , dilate3)\n",
    "\n",
    "cv2.waitKey(0)\n",
    "cv2.destroyAllWindows()\n"
   ]
  },
  {
   "cell_type": "markdown",
   "metadata": {},
   "source": [
    "## 팽창= (dilation) 픽셀 외곽을 채우는 것"
   ]
  }
 ],
 "metadata": {
  "kernelspec": {
   "display_name": "Python 3",
   "language": "python",
   "name": "python3"
  },
  "language_info": {
   "codemirror_mode": {
    "name": "ipython",
    "version": 3
   },
   "file_extension": ".py",
   "mimetype": "text/x-python",
   "name": "python",
   "nbconvert_exporter": "python",
   "pygments_lexer": "ipython3",
   "version": "3.8.3"
  }
 },
 "nbformat": 4,
 "nbformat_minor": 4
}
